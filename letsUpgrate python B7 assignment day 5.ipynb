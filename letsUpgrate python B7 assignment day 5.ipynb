{
 "cells": [
  {
   "cell_type": "raw",
   "metadata": {},
   "source": [
    "Write a program to identify sub list [1,1,5] is then in the given\n",
    "list in the same order ,if yes print \"its Match\"if no then\n",
    "print \"it's Gone \" in function"
   ]
  },
  {
   "cell_type": "code",
   "execution_count": 15,
   "metadata": {},
   "outputs": [
    {
     "name": "stdout",
     "output_type": "stream",
     "text": [
      "its match\n"
     ]
    }
   ],
   "source": [
    "lst =[1,1,6,4,2,5,3]\n",
    "sublist=[1,1,5]\n",
    "for i in range(len(lst)):\n",
    "    if lst[i]==sublist[0]:\n",
    "        for j in range (i+1,len(lst)):\n",
    "            if lst[j]==sublist[1]:\n",
    "                for k in range(j+1,len(lst)):\n",
    "                    if lst[k]==sublist[2]:\n",
    "                        print(\"its match\")\n",
    "                        break\n",
    "                break\n",
    "                \n",
    "        break\n",
    "    \n",
    "    else :\n",
    "        print(\"its gone\")\n",
    "            "
   ]
  },
  {
   "cell_type": "code",
   "execution_count": 2,
   "metadata": {},
   "outputs": [],
   "source": []
  },
  {
   "cell_type": "raw",
   "metadata": {},
   "source": [
    "make a function for prime numbers and use filter \n",
    "out all prime numbers from 1-2500"
   ]
  },
  {
   "cell_type": "code",
   "execution_count": 33,
   "metadata": {},
   "outputs": [],
   "source": [
    "def prime():\n",
    "    \n",
    "        count=0\n",
    "        for num in range (2,(i//2)+1):\n",
    "            if i%num==0:\n",
    "                count+=1\n",
    "                break\n",
    "                if (count==0 and i!=1):\n",
    "                     print(i)\n",
    "                        \n",
    "                        \n",
    "        num =range (1,2500)\n",
    "        a=list(filter(prime(),n))"
   ]
  },
  {
   "cell_type": "code",
   "execution_count": 23,
   "metadata": {},
   "outputs": [
    {
     "name": "stdout",
     "output_type": "stream",
     "text": [
      "['Hey This  Ganesh', 'I Am In N India']\n"
     ]
    }
   ],
   "source": [
    "t=lambda x:x.title()\n",
    "q=[\"Hey this  ganesh\",\"i am in n india\"]\n",
    "p=map(t,q)\n",
    "print(list(p))"
   ]
  },
  {
   "cell_type": "code",
   "execution_count": null,
   "metadata": {},
   "outputs": [],
   "source": []
  }
 ],
 "metadata": {
  "kernelspec": {
   "display_name": "Python 3",
   "language": "python",
   "name": "python3"
  },
  "language_info": {
   "codemirror_mode": {
    "name": "ipython",
    "version": 3
   },
   "file_extension": ".py",
   "mimetype": "text/x-python",
   "name": "python",
   "nbconvert_exporter": "python",
   "pygments_lexer": "ipython3",
   "version": "3.7.8"
  }
 },
 "nbformat": 4,
 "nbformat_minor": 4
}
